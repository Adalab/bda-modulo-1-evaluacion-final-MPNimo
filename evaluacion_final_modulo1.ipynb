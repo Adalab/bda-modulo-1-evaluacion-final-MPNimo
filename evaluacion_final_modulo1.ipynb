{
 "cells": [
  {
   "cell_type": "markdown",
   "id": "d64da62d",
   "metadata": {},
   "source": [
    "# Evaluación Final Módulo 1"
   ]
  },
  {
   "cell_type": "code",
   "execution_count": null,
   "id": "9308e303",
   "metadata": {},
   "outputs": [],
   "source": [
    "class Tienda: \n",
    "    def __init__(self):\n",
    "        self.inventario = [] # lista de diccionarios. \n",
    "        self.clientes = {} # diccionario\n",
    "        self.ventas_totales = 0.0 # float (decimales) \n",
    "    \n",
    "    def agregar_producto(self, nombre, precio, cantidad):\n",
    "        producto = [] # se crea una lista vacia donde se añadiran los diferentes productos. \n",
    "        nombre = str(nombre).upper()\n",
    "        \n",
    "        try:\n",
    "            # precio y cantidad tienen que ser valores numéricos para que el código funcione de manera correcta.  \n",
    "            precio = float(precio) \n",
    "            cantidad = int(cantidad)\n",
    "\n",
    "            for p in self.inventario: #recorre la lista del inventario, cada elemento de la lista a su vez es un diccionario.\n",
    "                producto.append(p['nombre']) # añadir a la lista \"producto\" los diferentes productos del inventario.\n",
    "                if nombre == p['nombre']: # verifica si coincide el nombre del nuevo producto con uno del inventario, donde p es el diccionario\n",
    "                    p['cantidad'] += cantidad # si existe, actualiza el inventario y añade la \"cantidad\".\n",
    "                    print(f'El producto \"{nombre}\" ya existe y se ha actualizado la cantidad en el inventario a {p['cantidad']} unidad(es).')\n",
    "\n",
    "            if nombre not in producto: # si el nombre NO se encuentra en la lista producto entonces se añade al inventario\n",
    "                self.inventario.append({'nombre': nombre, 'precio': precio, 'cantidad': cantidad}) \n",
    "                print(f'El producto \"{nombre}\" ha sido añadido al inventario con un precio de ${precio} y una cantidad de {cantidad} unidad(es).')\n",
    "        \n",
    "        except ValueError: # En el caso de que en precio o cantidad se introduzca una palabra, dará un error. \n",
    "            print('ATENCIÓN: precio o cantidad no es un valor numérico. Por favor, indique una cantidad válida. ')\n",
    "\n",
    "    def ver_inventario(self): \n",
    "        for p in self.inventario: # Se recorre inventario para ir sacando por pantalla todos los productos que se encuentra en ella. \n",
    "            print(f'Nombre: {p['nombre']}, Precio: ${p['precio']}, Cantidad: {p['cantidad']}.')\n",
    "\n",
    "    def buscar_producto(self, nombre):\n",
    "        nombre = str(nombre).upper() \n",
    "        existe_prod = False # se crea una variable de tipo boleano para comprobar si el producto existe en el inventario. Por defecto se inicializa a False dándose por hecho que no existe inicialmente.\n",
    "        for p in self.inventario:\n",
    "            if nombre == p['nombre']:\n",
    "                print(f'Nombre: {p['nombre']}, Precio: ${p['precio']}, Cantidad: {p['cantidad']}.')\n",
    "                existe_prod = True # se cambia la variable a True porque el producto se encuetra en el inventario.\n",
    "                break # se para cuando encuentra el producto en el inventario para que no siga iterando. \n",
    "\n",
    "        if not existe_prod: # se comprueba que el producto no está en el inventario y se indica en un mensaje. \n",
    "           print(f'Producto \"{nombre}\" no ha sido encontrado.')\n",
    "        \n",
    "        return existe_prod # Devuelve: True si existe el producto y False si no existe. (Para def realizar_compra) \n",
    "        \n",
    "    def actualizar_stock(self, nombre, cantidad): \n",
    "        nombre = str(nombre).upper() \n",
    "        existe_prod = False # se crea una variable de tipo boleano para comprobar si el producto existe en el inventario.\n",
    "        for p in self.inventario: # Se recorre inventario para buscar el producto que se desea actualizar. \n",
    "            if nombre == p['nombre']: # Si encontramos el producto en el inventario\n",
    "                existe_prod = True # la variable existe_prod cambia a True\n",
    "                if cantidad < 0: # Tenemos que tener cuidado que el stock no sea negativo (no tendría sentido). Empezamos viendo que la cantidad a actualizar sea negativa.\n",
    "                    resta = p['cantidad'] + cantidad # hacemos el cálculo de sumar la cantidad que tenemos en stock con la cantidad que le pasamos a la función.\n",
    "                    if resta < 0: # Si la resta nos sale negativa\n",
    "                        print('ERROR') # Le indicamos un error y no actualizamos el inventario. \n",
    "                        print(f'La cantidad en stock de \"{nombre}\" es negativa. No se puede actualizar el stock.')\n",
    "                    elif resta >= 0: # Si la resta es positiva o 0.\n",
    "                        p['cantidad'] += cantidad # Actualizamos el inventario del producto\n",
    "                        print(f'El producto \"{nombre}\" ha sido actualizado. Su stock actual es de {p['cantidad']}.')\n",
    "                elif cantidad > 0: # Si la cantidad a actualizar es positiva\n",
    "                    p['cantidad'] += cantidad # actualizamos el inventario\n",
    "                    print(f'El producto \"{nombre}\" ha sido actualizado. Su stock actual es de {p['cantidad']}.')\n",
    "                else: # Hay una última opción y es que la cantidad a actualizar sea 0, no tiene sentido. Por lo que no se actualiza y se indica por qué no se actualiza\n",
    "                    print(f'El producto \"{nombre}\" no ha actualizado su stock debido a que la cantidad a añadir es CERO.')\n",
    "                \n",
    "                break # después de recorrer el if detenemos la iteracción del for.  \n",
    "        \n",
    "        if not existe_prod: # Si el producto a actualizar no se encuentra en el inventario \n",
    "            print(f'El producto \"{nombre}\" no se encuentra en el inventario.') # Se indica con un mensaje y no se hace nada.  \n",
    "\n",
    "\n",
    "    def eliminar_producto(self, nombre): \n",
    "        nombre = str(nombre).upper() \n",
    "        contador = 0 # Un contador que se inicia en 0 para saber la posición en la lista en cada iteración para que cuando encontremos el producto a eliminar tengamos su posición.  \n",
    "        self.buscar_producto(nombre) # Llamando a la función buscar_producto. En el caso de que el producto que se quiere eliminar no exista esta función lo imprime por pantalla. \n",
    "                                     # En el caso de que el producto que se quiere eliminar exista, dará la información completa en el inventario antes de eliminarlo. \n",
    "        \n",
    "        for p in self.inventario: # Recorremos el inventario para buscar el producto que se desea eliminar. \n",
    "            if nombre == p['nombre']:# Si el nombre indicado se encuentra en nuestro inventario\n",
    "                self.inventario.pop(contador) # Se eliminará de inventario el producto con la función pop, y utilizando la posición que la variable contador nos indica\n",
    "                #encontrar = self.buscar_producto(nombre)\n",
    "                print(f'El producto \"{nombre}\" ha sido eliminado correctamente.')\n",
    "                break # Se para cuando encuentra el producto a eliminar\n",
    "            contador +=1 # Va aumentando en uno la variable contador en cada vuelta que da. \n",
    "        \n",
    "        #if not encontrar:\n",
    "        #   print(f'No ha sido encontrado el producto \"{nombre}\".')\n",
    "            \n",
    "    def calcular_valor_inventario(self):\n",
    "        valor_inventario = 0 # Iniciamos una variable con nombre VALOR a cero\n",
    "        for p in self.inventario: # Recorremos el inventario \n",
    "            valor_inventario += p['precio'] * p['cantidad'] # para ir añadiendo en la variable valor_inventario la suma-producto de precio por la cantidad que hay en stock\n",
    "        print(f'El valor total del inventario es ${valor_inventario}.')\n",
    "\n",
    "\n",
    "    def realizar_compra(self):\n",
    "        compra = True # Creación de una variable buleana para el bucle while. \n",
    "        lista_compra = [] # Lista vacia para añadir los productos que el cliente desea comprar\n",
    "        total = 0 # Variable iniciada en 0 para ir añadiendo los precios de los productos y al final poder decirle cuanto es el total de la compra. \n",
    "            \n",
    "        while compra: # Por defecto es True. Variable compra es la que cambiará a False cuando queramos que el while termine\n",
    "            stock = True # Creamos una variable buleana para, en el caso de que no haya stock no dejemos que el cliente seleccione más el producto. \n",
    "            print('Productos del inventario:')\n",
    "            self.ver_inventario() # Para que el cliente sepa que hay en el inventario\n",
    "            selec_producto = input('Seleccione un producto:').upper() # Indica el producto que desea\n",
    "        \n",
    "            existe_producto = self.buscar_producto(selec_producto) # Verificar que el producto que ha indicado existe, mediante la función buscar_producto.\n",
    "            if not existe_producto: # Si no existe el producto indicado, volvemos a indicarle que 'Seleccione un producto' \n",
    "                continue # para omitir la iteracción en la que nos encontramos\n",
    "\n",
    "            for p in self.inventario: # Busco en el inventario el producto seleccionado por el cliente\n",
    "                if selec_producto == p['nombre']: # Si el producto seleccionado por el cliente se encuentra en el inventario\n",
    "                    if p['cantidad'] !=0: # Tenemos que comprobar que el stock sea distinto de 0\n",
    "                        total += p['precio'] # si es así, sumamos su precio a la variable total, iniciada más arriba con un cero.   \n",
    "                    else: \n",
    "                        stock = False\n",
    "                        print(f'No hay stock suficiente de {selec_producto}.')\n",
    "\n",
    "            if not stock: # si stock es igual a False, es decir, no hay stock del producto que se está seleccionando. \n",
    "                continue  # omitimos la iteracción y volvemos a pedirle al cliente que seleccione un producto. \n",
    "                    \n",
    "            lista_compra.append(selec_producto) # vamos añadiendo los productos seleccionados por el cliente en una lista\n",
    "            self.actualizar_stock(selec_producto, -1) # Actualizamos el stock con la función actualizar_stock\n",
    "            seguir_comprando = input('¿Desea seguir comprando? Indique con un SI o con un NO.').upper() # Comprobamos si el cliente quiere seguir comprando o no.\n",
    "\n",
    "            if seguir_comprando == 'SI': # Si quiere seguir comprando, la variable compra = True y empezaremos de nuevo el bucle while\n",
    "                compra = True\n",
    "\n",
    "            elif seguir_comprando == 'NO': # Si no quiere seguir comprando\n",
    "                print(f'El carrito con sus producto es el siguiente: {lista_compra}.') # Le indicaremos los productos que hay en su carrito\n",
    "                print(f'El coste total de su compra es de ${total}') # y el coste total de su compra. \n",
    "                compra = False # La variable compra la igualaremos a False para que le bucle while termine. \n",
    "\n",
    "            else: \n",
    "                print('RESPUESTA NO VALIDA.') # Está el caso de no ponga ni SI ni NO, en ese caso le diremos que su respuesta no es valida\n",
    "                print(f'El carrito con sus producto es el siguiente: {lista_compra}.') # LE mostraremos su carrito con los productos\n",
    "                print(f'El coste total de su compra es de ${total}') # El coste total de su compra\n",
    "                compra = False # y la variable compra la igualaremos a False para finalizar el bucle while. \n",
    "\n",
    "    def procesar_pago(self):\n",
    "        try: # Se hace un TRY ... EXCEPT para el caso de que el cliente no introduzca un valor. \n",
    "            cantidad_total = float(input('Ingrese la cantidad total:')) # Se le indica al cliente que introduzca la cantidad total\n",
    "            cantidad_pago = float(input('Ingrese la cantidad de pago:')) # y la cantidad de pago.\n",
    "\n",
    "            if cantidad_total < cantidad_pago: # Si la cantidad total es menos que la cantidad de pago. \n",
    "                cambio = cantidad_pago - cantidad_total # Se realiza la resta para indicarle cual es su cambio.\n",
    "                print(f'Pago realizado correctamente. Su cambio es: ${cambio}')\n",
    "            elif cantidad_total > cantidad_pago: # Si la cantidad total es mayor que la cantidad de pago.\n",
    "                print('Error. Monto insuficiente.') # Se le indica que el monto no es suficiente. \n",
    "            else: # El único caso que nos falta por tener en cuenta es el caso en el qu eno haya que darle cambio. \n",
    "                print('Pago realizado correctamente.') # Entonces se le indica que el pago ha sido realizado correctamente. \n",
    "\n",
    "        except ValueError: # En el caso de que el cliente introduzca un valor no numérico\n",
    "            print('ERROR. La cantidad total o de pago no son un valor numérico. ') # Se le imprimirá por pantalla este \"error\".    \n",
    "    \n",
    "    def agregar_cliente(self, nombre, email):\n",
    "        if nombre not in self.clientes: # Si el nombre no se encuentra en el diccionario de clientes\n",
    "            nuevo_cliente = {str(nombre) : {'email': email, 'compras': []}} # Se define un diccionario con el nuevo cliente\n",
    "            self.clientes.update(nuevo_cliente) # y se actualiza el diccionario cliente\n",
    "            print(f'Se ha agregado correctamente el cliente \"{nombre}\" al registro de clientes.')\n",
    "        else: \n",
    "            print('El cliente ya existe.') # En caso contrario se indicará que el cliente ya existe en nuestro diccionario.\n",
    "\n",
    "    def ver_clientes(self): \n",
    "        for clave, valor in self.clientes.items(): # Se recorre las claves y valores del diccionario clientes\n",
    "            print(f'El nombre del cliente es {clave} y cuyos datos son {valor}') # con la finalidad de mostrar por pantalla todos los clientes que están en nuestro diccionario. \n"
   ]
  },
  {
   "cell_type": "markdown",
   "id": "db53e110",
   "metadata": {},
   "source": [
    "### PRUEBAS DE LAS FUNCIONES"
   ]
  },
  {
   "cell_type": "code",
   "execution_count": 54,
   "id": "76f17d47",
   "metadata": {},
   "outputs": [],
   "source": [
    "mi_tienda = Tienda()"
   ]
  },
  {
   "cell_type": "markdown",
   "id": "23b4e582",
   "metadata": {},
   "source": [
    "- Prueba de la función ``agregar_producto(nombre, precio, cantidad)``"
   ]
  },
  {
   "cell_type": "code",
   "execution_count": 55,
   "id": "429627ad",
   "metadata": {},
   "outputs": [
    {
     "name": "stdout",
     "output_type": "stream",
     "text": [
      "El producto \"CAMISA\" ha sido añadido al inventario con un precio de $20.0 y una cantidad de 35 unidad(es).\n"
     ]
    }
   ],
   "source": [
    "mi_tienda.agregar_producto('Camisa', 20, 35)\n"
   ]
  },
  {
   "cell_type": "code",
   "execution_count": 56,
   "id": "dab3ae94",
   "metadata": {},
   "outputs": [
    {
     "name": "stdout",
     "output_type": "stream",
     "text": [
      "El producto \"PANTALON\" ha sido añadido al inventario con un precio de $15.0 y una cantidad de 30 unidad(es).\n"
     ]
    }
   ],
   "source": [
    "mi_tienda.agregar_producto('Pantalon', 15, 30)\n"
   ]
  },
  {
   "cell_type": "code",
   "execution_count": 57,
   "id": "7d6f62ca",
   "metadata": {},
   "outputs": [
    {
     "name": "stdout",
     "output_type": "stream",
     "text": [
      "El producto \"PANTALON\" ya existe y se ha actualizado la cantidad en el inventario a 35 unidad(es).\n"
     ]
    }
   ],
   "source": [
    "mi_tienda.agregar_producto('Pantalon', 15, 5)"
   ]
  },
  {
   "cell_type": "code",
   "execution_count": 58,
   "id": "d1b89236",
   "metadata": {},
   "outputs": [
    {
     "name": "stdout",
     "output_type": "stream",
     "text": [
      "El producto \"20\" ha sido añadido al inventario con un precio de $25.0 y una cantidad de 10 unidad(es).\n"
     ]
    }
   ],
   "source": [
    "mi_tienda.agregar_producto(20, 25, 10)"
   ]
  },
  {
   "cell_type": "code",
   "execution_count": 59,
   "id": "0468f162",
   "metadata": {},
   "outputs": [
    {
     "name": "stdout",
     "output_type": "stream",
     "text": [
      "ATENCIÓN: precio o cantidad no es un valor numérico. Por favor, indique una cantidad válida. \n"
     ]
    }
   ],
   "source": [
    "mi_tienda.agregar_producto('Vestido', 'precio', 5 )"
   ]
  },
  {
   "cell_type": "code",
   "execution_count": 18,
   "id": "00aeb5e5",
   "metadata": {},
   "outputs": [
    {
     "name": "stdout",
     "output_type": "stream",
     "text": [
      "ATENCIÓN: precio o cantidad no es un valor numérico. Por favor, indique una cantidad válida. \n"
     ]
    }
   ],
   "source": [
    "mi_tienda.agregar_producto('Vestido', 5, 'cantidad' )"
   ]
  },
  {
   "cell_type": "markdown",
   "id": "9268b833",
   "metadata": {},
   "source": [
    "- Prueba da la función ``ver_inventario()``"
   ]
  },
  {
   "cell_type": "code",
   "execution_count": 19,
   "id": "0ed48a58",
   "metadata": {},
   "outputs": [
    {
     "name": "stdout",
     "output_type": "stream",
     "text": [
      "Nombre: CAMISA, Precio: $20.0, Cantidad: 35.\n",
      "Nombre: PANTALON, Precio: $15.0, Cantidad: 35.\n",
      "Nombre: 20, Precio: $25.0, Cantidad: 10.\n"
     ]
    }
   ],
   "source": [
    "mi_tienda.ver_inventario()"
   ]
  },
  {
   "cell_type": "code",
   "execution_count": 20,
   "id": "4d9bb512",
   "metadata": {},
   "outputs": [
    {
     "name": "stdout",
     "output_type": "stream",
     "text": [
      "El producto \"CHAQUETA\" ha sido añadido al inventario con un precio de $50.0 y una cantidad de 10 unidad(es).\n"
     ]
    }
   ],
   "source": [
    "mi_tienda.agregar_producto('Chaqueta', 50, 10)"
   ]
  },
  {
   "cell_type": "code",
   "execution_count": 21,
   "id": "aaa87773",
   "metadata": {},
   "outputs": [
    {
     "name": "stdout",
     "output_type": "stream",
     "text": [
      "Nombre: CAMISA, Precio: $20.0, Cantidad: 35.\n",
      "Nombre: PANTALON, Precio: $15.0, Cantidad: 35.\n",
      "Nombre: 20, Precio: $25.0, Cantidad: 10.\n",
      "Nombre: CHAQUETA, Precio: $50.0, Cantidad: 10.\n"
     ]
    }
   ],
   "source": [
    "mi_tienda.ver_inventario()"
   ]
  },
  {
   "cell_type": "markdown",
   "id": "3e8b4941",
   "metadata": {},
   "source": [
    "- Prueba da la función ``buscar_producto(nombre)``"
   ]
  },
  {
   "cell_type": "code",
   "execution_count": 22,
   "id": "d9865af3",
   "metadata": {},
   "outputs": [
    {
     "name": "stdout",
     "output_type": "stream",
     "text": [
      "Producto \"FALDA\" no ha sido encontrado.\n"
     ]
    },
    {
     "data": {
      "text/plain": [
       "False"
      ]
     },
     "execution_count": 22,
     "metadata": {},
     "output_type": "execute_result"
    }
   ],
   "source": [
    "mi_tienda.buscar_producto('Falda')"
   ]
  },
  {
   "cell_type": "code",
   "execution_count": 23,
   "id": "25a29e1e",
   "metadata": {},
   "outputs": [
    {
     "name": "stdout",
     "output_type": "stream",
     "text": [
      "Nombre: CHAQUETA, Precio: $50.0, Cantidad: 10.\n"
     ]
    },
    {
     "data": {
      "text/plain": [
       "True"
      ]
     },
     "execution_count": 23,
     "metadata": {},
     "output_type": "execute_result"
    }
   ],
   "source": [
    "mi_tienda.buscar_producto('Chaqueta')"
   ]
  },
  {
   "cell_type": "markdown",
   "id": "8d4df967",
   "metadata": {},
   "source": [
    "- Prueba da la función ``actualizar_stock(nombre, cantidad)``"
   ]
  },
  {
   "cell_type": "code",
   "execution_count": 24,
   "id": "9791be97",
   "metadata": {},
   "outputs": [
    {
     "name": "stdout",
     "output_type": "stream",
     "text": [
      "Nombre: CAMISA, Precio: $20.0, Cantidad: 35.\n",
      "Nombre: PANTALON, Precio: $15.0, Cantidad: 35.\n",
      "Nombre: 20, Precio: $25.0, Cantidad: 10.\n",
      "Nombre: CHAQUETA, Precio: $50.0, Cantidad: 10.\n"
     ]
    }
   ],
   "source": [
    "mi_tienda.ver_inventario()"
   ]
  },
  {
   "cell_type": "code",
   "execution_count": 25,
   "id": "38027c4c",
   "metadata": {},
   "outputs": [
    {
     "name": "stdout",
     "output_type": "stream",
     "text": [
      "El producto \"CAMISA\" ha sido actualizado. Su stock actual es de 75.\n"
     ]
    }
   ],
   "source": [
    "mi_tienda.actualizar_stock('Camisa', 40)"
   ]
  },
  {
   "cell_type": "code",
   "execution_count": 26,
   "id": "bf1f8117",
   "metadata": {},
   "outputs": [
    {
     "name": "stdout",
     "output_type": "stream",
     "text": [
      "El producto \"FALDA\" no se encuentra en el inventario.\n"
     ]
    }
   ],
   "source": [
    "mi_tienda.actualizar_stock('Falda', 10)"
   ]
  },
  {
   "cell_type": "code",
   "execution_count": 27,
   "id": "032a1863",
   "metadata": {},
   "outputs": [
    {
     "name": "stdout",
     "output_type": "stream",
     "text": [
      "Nombre: CAMISA, Precio: $20.0, Cantidad: 75.\n",
      "Nombre: PANTALON, Precio: $15.0, Cantidad: 35.\n",
      "Nombre: 20, Precio: $25.0, Cantidad: 10.\n",
      "Nombre: CHAQUETA, Precio: $50.0, Cantidad: 10.\n"
     ]
    }
   ],
   "source": [
    "mi_tienda.ver_inventario()"
   ]
  },
  {
   "cell_type": "code",
   "execution_count": 28,
   "id": "a9939879",
   "metadata": {},
   "outputs": [
    {
     "name": "stdout",
     "output_type": "stream",
     "text": [
      "ERROR\n",
      "La cantidad en stock de \"PANTALON\" es negativa. No se puede actualizar el stock.\n"
     ]
    }
   ],
   "source": [
    "mi_tienda.actualizar_stock('Pantalon', -100)"
   ]
  },
  {
   "cell_type": "code",
   "execution_count": 29,
   "id": "86217a0a",
   "metadata": {},
   "outputs": [
    {
     "name": "stdout",
     "output_type": "stream",
     "text": [
      "Nombre: CAMISA, Precio: $20.0, Cantidad: 75.\n",
      "Nombre: PANTALON, Precio: $15.0, Cantidad: 35.\n",
      "Nombre: 20, Precio: $25.0, Cantidad: 10.\n",
      "Nombre: CHAQUETA, Precio: $50.0, Cantidad: 10.\n"
     ]
    }
   ],
   "source": [
    "mi_tienda.ver_inventario()"
   ]
  },
  {
   "cell_type": "code",
   "execution_count": 30,
   "id": "4c9e2542",
   "metadata": {},
   "outputs": [
    {
     "name": "stdout",
     "output_type": "stream",
     "text": [
      "El producto \"CAMISA\" ha sido actualizado. Su stock actual es de 35.\n"
     ]
    }
   ],
   "source": [
    "mi_tienda.actualizar_stock('Camisa', -40)"
   ]
  },
  {
   "cell_type": "code",
   "execution_count": 31,
   "id": "8bc1700a",
   "metadata": {},
   "outputs": [
    {
     "name": "stdout",
     "output_type": "stream",
     "text": [
      "Nombre: CAMISA, Precio: $20.0, Cantidad: 35.\n",
      "Nombre: PANTALON, Precio: $15.0, Cantidad: 35.\n",
      "Nombre: 20, Precio: $25.0, Cantidad: 10.\n",
      "Nombre: CHAQUETA, Precio: $50.0, Cantidad: 10.\n"
     ]
    }
   ],
   "source": [
    "mi_tienda.ver_inventario()"
   ]
  },
  {
   "cell_type": "code",
   "execution_count": 32,
   "id": "eba61861",
   "metadata": {},
   "outputs": [
    {
     "name": "stdout",
     "output_type": "stream",
     "text": [
      "El producto \"CAMISA\" no ha actualizado su stock debido a que la cantidad a añadir es CERO.\n"
     ]
    }
   ],
   "source": [
    "mi_tienda.actualizar_stock('Camisa', 0)"
   ]
  },
  {
   "cell_type": "code",
   "execution_count": 33,
   "id": "588f86a4",
   "metadata": {},
   "outputs": [
    {
     "name": "stdout",
     "output_type": "stream",
     "text": [
      "Nombre: CAMISA, Precio: $20.0, Cantidad: 35.\n",
      "Nombre: PANTALON, Precio: $15.0, Cantidad: 35.\n",
      "Nombre: 20, Precio: $25.0, Cantidad: 10.\n",
      "Nombre: CHAQUETA, Precio: $50.0, Cantidad: 10.\n"
     ]
    }
   ],
   "source": [
    "mi_tienda.ver_inventario()"
   ]
  },
  {
   "cell_type": "markdown",
   "id": "799a569e",
   "metadata": {},
   "source": [
    "- Prueba da la función ``eliminar_producto(nombre)``"
   ]
  },
  {
   "cell_type": "code",
   "execution_count": 34,
   "id": "677144bd",
   "metadata": {},
   "outputs": [
    {
     "name": "stdout",
     "output_type": "stream",
     "text": [
      "Producto \"VESTIDO\" no ha sido encontrado.\n"
     ]
    }
   ],
   "source": [
    "mi_tienda.eliminar_producto('Vestido')"
   ]
  },
  {
   "cell_type": "code",
   "execution_count": 35,
   "id": "1389c8e9",
   "metadata": {},
   "outputs": [
    {
     "name": "stdout",
     "output_type": "stream",
     "text": [
      "Nombre: PANTALON, Precio: $15.0, Cantidad: 35.\n",
      "El producto \"PANTALON\" ha sido eliminado correctamente.\n"
     ]
    }
   ],
   "source": [
    "mi_tienda.eliminar_producto('Pantalon')"
   ]
  },
  {
   "cell_type": "code",
   "execution_count": 36,
   "id": "16ad458c",
   "metadata": {},
   "outputs": [
    {
     "name": "stdout",
     "output_type": "stream",
     "text": [
      "Nombre: 20, Precio: $25.0, Cantidad: 10.\n",
      "El producto \"20\" ha sido eliminado correctamente.\n"
     ]
    }
   ],
   "source": [
    "mi_tienda.eliminar_producto(20)"
   ]
  },
  {
   "cell_type": "markdown",
   "id": "509965df",
   "metadata": {},
   "source": [
    "- Prueba da la función ``calcular_valor_inventario()``"
   ]
  },
  {
   "cell_type": "code",
   "execution_count": 37,
   "id": "519ce3a4",
   "metadata": {},
   "outputs": [
    {
     "name": "stdout",
     "output_type": "stream",
     "text": [
      "El valor total del inventario es $1200.0.\n"
     ]
    }
   ],
   "source": [
    "mi_tienda.calcular_valor_inventario()"
   ]
  },
  {
   "cell_type": "code",
   "execution_count": 38,
   "id": "e4daa47e",
   "metadata": {},
   "outputs": [
    {
     "name": "stdout",
     "output_type": "stream",
     "text": [
      "El producto \"CHAQUETA PIEL\" ha sido añadido al inventario con un precio de $100.0 y una cantidad de 1 unidad(es).\n"
     ]
    }
   ],
   "source": [
    "mi_tienda.agregar_producto('Chaqueta piel', 100, 1)"
   ]
  },
  {
   "cell_type": "code",
   "execution_count": 39,
   "id": "56ec68b5",
   "metadata": {},
   "outputs": [
    {
     "name": "stdout",
     "output_type": "stream",
     "text": [
      "Nombre: CAMISA, Precio: $20.0, Cantidad: 35.\n",
      "Nombre: CHAQUETA, Precio: $50.0, Cantidad: 10.\n",
      "Nombre: CHAQUETA PIEL, Precio: $100.0, Cantidad: 1.\n"
     ]
    }
   ],
   "source": [
    "mi_tienda.ver_inventario()"
   ]
  },
  {
   "cell_type": "code",
   "execution_count": 40,
   "id": "aea82e17",
   "metadata": {},
   "outputs": [
    {
     "name": "stdout",
     "output_type": "stream",
     "text": [
      "El valor total del inventario es $1300.0.\n"
     ]
    }
   ],
   "source": [
    "mi_tienda.calcular_valor_inventario()"
   ]
  },
  {
   "cell_type": "markdown",
   "id": "ed4af824",
   "metadata": {},
   "source": [
    "- Prueba da la función ``realizar_compra()``"
   ]
  },
  {
   "cell_type": "code",
   "execution_count": 41,
   "id": "f2148ccc",
   "metadata": {},
   "outputs": [
    {
     "name": "stdout",
     "output_type": "stream",
     "text": [
      "Productos del inventario:\n",
      "Nombre: CAMISA, Precio: $20.0, Cantidad: 35.\n",
      "Nombre: CHAQUETA, Precio: $50.0, Cantidad: 10.\n",
      "Nombre: CHAQUETA PIEL, Precio: $100.0, Cantidad: 1.\n",
      "Nombre: CAMISA, Precio: $20.0, Cantidad: 35.\n",
      "El producto \"CAMISA\" ha sido actualizado. Su stock actual es de 34.\n",
      "Productos del inventario:\n",
      "Nombre: CAMISA, Precio: $20.0, Cantidad: 34.\n",
      "Nombre: CHAQUETA, Precio: $50.0, Cantidad: 10.\n",
      "Nombre: CHAQUETA PIEL, Precio: $100.0, Cantidad: 1.\n",
      "Nombre: CHAQUETA, Precio: $50.0, Cantidad: 10.\n",
      "El producto \"CHAQUETA\" ha sido actualizado. Su stock actual es de 9.\n",
      "El carrito con sus producto es el siguiente: ['CAMISA', 'CHAQUETA'].\n",
      "El coste total de su compra es de $70.0\n"
     ]
    }
   ],
   "source": [
    "mi_tienda.realizar_compra()"
   ]
  },
  {
   "cell_type": "code",
   "execution_count": 42,
   "id": "f2902078",
   "metadata": {},
   "outputs": [
    {
     "name": "stdout",
     "output_type": "stream",
     "text": [
      "Productos del inventario:\n",
      "Nombre: CAMISA, Precio: $20.0, Cantidad: 34.\n",
      "Nombre: CHAQUETA, Precio: $50.0, Cantidad: 9.\n",
      "Nombre: CHAQUETA PIEL, Precio: $100.0, Cantidad: 1.\n",
      "Nombre: CHAQUETA PIEL, Precio: $100.0, Cantidad: 1.\n",
      "El producto \"CHAQUETA PIEL\" ha sido actualizado. Su stock actual es de 0.\n",
      "Productos del inventario:\n",
      "Nombre: CAMISA, Precio: $20.0, Cantidad: 34.\n",
      "Nombre: CHAQUETA, Precio: $50.0, Cantidad: 9.\n",
      "Nombre: CHAQUETA PIEL, Precio: $100.0, Cantidad: 0.\n",
      "Nombre: CHAQUETA PIEL, Precio: $100.0, Cantidad: 0.\n",
      "No hay stock suficiente de CHAQUETA PIEL.\n",
      "Productos del inventario:\n",
      "Nombre: CAMISA, Precio: $20.0, Cantidad: 34.\n",
      "Nombre: CHAQUETA, Precio: $50.0, Cantidad: 9.\n",
      "Nombre: CHAQUETA PIEL, Precio: $100.0, Cantidad: 0.\n",
      "Nombre: CHAQUETA, Precio: $50.0, Cantidad: 9.\n",
      "El producto \"CHAQUETA\" ha sido actualizado. Su stock actual es de 8.\n",
      "El carrito con sus producto es el siguiente: ['CHAQUETA PIEL', 'CHAQUETA'].\n",
      "El coste total de su compra es de $150.0\n"
     ]
    }
   ],
   "source": [
    "mi_tienda.realizar_compra()"
   ]
  },
  {
   "cell_type": "code",
   "execution_count": 43,
   "id": "504db089",
   "metadata": {},
   "outputs": [
    {
     "name": "stdout",
     "output_type": "stream",
     "text": [
      "Productos del inventario:\n",
      "Nombre: CAMISA, Precio: $20.0, Cantidad: 34.\n",
      "Nombre: CHAQUETA, Precio: $50.0, Cantidad: 8.\n",
      "Nombre: CHAQUETA PIEL, Precio: $100.0, Cantidad: 0.\n",
      "Producto \"PANTALON\" no ha sido encontrado.\n",
      "Productos del inventario:\n",
      "Nombre: CAMISA, Precio: $20.0, Cantidad: 34.\n",
      "Nombre: CHAQUETA, Precio: $50.0, Cantidad: 8.\n",
      "Nombre: CHAQUETA PIEL, Precio: $100.0, Cantidad: 0.\n",
      "Nombre: CAMISA, Precio: $20.0, Cantidad: 34.\n",
      "El producto \"CAMISA\" ha sido actualizado. Su stock actual es de 33.\n",
      "El carrito con sus producto es el siguiente: ['CAMISA'].\n",
      "El coste total de su compra es de $20.0\n"
     ]
    }
   ],
   "source": [
    "mi_tienda.realizar_compra()"
   ]
  },
  {
   "cell_type": "code",
   "execution_count": 44,
   "id": "84fd425e",
   "metadata": {},
   "outputs": [
    {
     "name": "stdout",
     "output_type": "stream",
     "text": [
      "Productos del inventario:\n",
      "Nombre: CAMISA, Precio: $20.0, Cantidad: 33.\n",
      "Nombre: CHAQUETA, Precio: $50.0, Cantidad: 8.\n",
      "Nombre: CHAQUETA PIEL, Precio: $100.0, Cantidad: 0.\n",
      "Nombre: CHAQUETA, Precio: $50.0, Cantidad: 8.\n",
      "El producto \"CHAQUETA\" ha sido actualizado. Su stock actual es de 7.\n",
      "RESPUESTA NO VALIDA.\n",
      "El carrito con sus producto es el siguiente: ['CHAQUETA'].\n",
      "El coste total de su compra es de $50.0\n"
     ]
    }
   ],
   "source": [
    "mi_tienda.realizar_compra()"
   ]
  },
  {
   "cell_type": "markdown",
   "id": "1f843b3c",
   "metadata": {},
   "source": [
    "- Prueba de la función ``procesar_pago()``"
   ]
  },
  {
   "cell_type": "code",
   "execution_count": 45,
   "id": "1a1d0fd4",
   "metadata": {},
   "outputs": [
    {
     "name": "stdout",
     "output_type": "stream",
     "text": [
      "Pago realizado correctamente. Su cambio es: $50.0\n"
     ]
    }
   ],
   "source": [
    "mi_tienda.procesar_pago()"
   ]
  },
  {
   "cell_type": "code",
   "execution_count": 46,
   "id": "07bce6f9",
   "metadata": {},
   "outputs": [
    {
     "name": "stdout",
     "output_type": "stream",
     "text": [
      "Error. Monto insuficiente.\n"
     ]
    }
   ],
   "source": [
    "mi_tienda.procesar_pago()"
   ]
  },
  {
   "cell_type": "code",
   "execution_count": 47,
   "id": "f1640067",
   "metadata": {},
   "outputs": [
    {
     "name": "stdout",
     "output_type": "stream",
     "text": [
      "Pago realizado correctamente.\n"
     ]
    }
   ],
   "source": [
    "mi_tienda.procesar_pago()"
   ]
  },
  {
   "cell_type": "markdown",
   "id": "933b6252",
   "metadata": {},
   "source": [
    "- Prueba de la función ``agregar_cliente(nombre, email)``"
   ]
  },
  {
   "cell_type": "code",
   "execution_count": 60,
   "id": "a752dc84",
   "metadata": {},
   "outputs": [
    {
     "name": "stdout",
     "output_type": "stream",
     "text": [
      "Se ha agregado correctamente el cliente \"Maria\" al registro de clientes.\n"
     ]
    }
   ],
   "source": [
    "mi_tienda.agregar_cliente('Maria', 'maria@gamil.com')"
   ]
  },
  {
   "cell_type": "code",
   "execution_count": 61,
   "id": "863a4afa",
   "metadata": {},
   "outputs": [
    {
     "name": "stdout",
     "output_type": "stream",
     "text": [
      "Se ha agregado correctamente el cliente \"Magdala\" al registro de clientes.\n"
     ]
    }
   ],
   "source": [
    "mi_tienda.agregar_cliente('Magdala', 'magdala@gmail.com')"
   ]
  },
  {
   "cell_type": "code",
   "execution_count": 62,
   "id": "71cc5e05",
   "metadata": {},
   "outputs": [
    {
     "name": "stdout",
     "output_type": "stream",
     "text": [
      "El cliente ya existe.\n"
     ]
    }
   ],
   "source": [
    "mi_tienda.agregar_cliente('Maria', 'maria@gamil.com')"
   ]
  },
  {
   "cell_type": "markdown",
   "id": "d96d31f5",
   "metadata": {},
   "source": [
    "- Prueba de la función ``ver_clientes()``"
   ]
  },
  {
   "cell_type": "code",
   "execution_count": 63,
   "id": "9c06100f",
   "metadata": {},
   "outputs": [
    {
     "name": "stdout",
     "output_type": "stream",
     "text": [
      "El nombre del cliente es Maria y cuyos datos son {'email': 'maria@gamil.com', 'compras': []}\n",
      "El nombre del cliente es Magdala y cuyos datos son {'email': 'magdala@gmail.com', 'compras': []}\n"
     ]
    }
   ],
   "source": [
    "mi_tienda.ver_clientes()"
   ]
  }
 ],
 "metadata": {
  "kernelspec": {
   "display_name": "base",
   "language": "python",
   "name": "python3"
  },
  "language_info": {
   "codemirror_mode": {
    "name": "ipython",
    "version": 3
   },
   "file_extension": ".py",
   "mimetype": "text/x-python",
   "name": "python",
   "nbconvert_exporter": "python",
   "pygments_lexer": "ipython3",
   "version": "3.12.7"
  }
 },
 "nbformat": 4,
 "nbformat_minor": 5
}
