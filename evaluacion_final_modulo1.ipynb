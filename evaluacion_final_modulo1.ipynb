{
 "cells": [
  {
   "cell_type": "markdown",
   "id": "d64da62d",
   "metadata": {},
   "source": [
    "# Evaluación Final Módulo 1"
   ]
  },
  {
   "cell_type": "code",
   "execution_count": 150,
   "id": "9308e303",
   "metadata": {},
   "outputs": [],
   "source": [
    "class Tienda: \n",
    "    def __init__(self):\n",
    "        self.inventario = [] # lista\n",
    "        self.clientes = {} # diccionario\n",
    "        self.ventas_totales = 0.0 # float (decimales) \n",
    "    \n",
    "    def agregar_producto(self, nombre, precio, cantidad):\n",
    "        ropa = []\n",
    "        for i in self.inventario: #recorre la lista del inventario, cada elemento de la lista a su vez es un diccionario\n",
    "            ropa.append(i['nombre'])\n",
    "            if nombre == i['nombre']: # verifica si coincide el nombre del nuevo producto con uno del inventario, donde i es el diccionario\n",
    "                i['cantidad'] += cantidad # si existe, actualiza el inventario y añade la \"cantidad\"\n",
    "                print(f'El producto \"{nombre}\" ya existe y se ha actualizado la cantidad en el inventario a {i['cantidad']} unidad(es).')\n",
    "\n",
    "        if nombre not in ropa:\n",
    "            self.inventario.append({'nombre': nombre, 'precio': precio, 'cantidad': cantidad})\n",
    "            print(f'El producto \"{nombre}\" ha sido añadido al inventario con un precio de ${precio} y una cantidad de {cantidad} unidad(es).')\n"
   ]
  },
  {
   "cell_type": "code",
   "execution_count": 151,
   "id": "76f17d47",
   "metadata": {},
   "outputs": [],
   "source": [
    "mi_tienda = Tienda()"
   ]
  },
  {
   "cell_type": "code",
   "execution_count": 152,
   "id": "429627ad",
   "metadata": {},
   "outputs": [
    {
     "name": "stdout",
     "output_type": "stream",
     "text": [
      "El producto \"Camisa\" ha sido añadido al inventario con un precio de $20 y una cantidad de 40 unidad(es).\n"
     ]
    }
   ],
   "source": [
    "mi_tienda.agregar_producto('Camisa', 20, 40)\n"
   ]
  },
  {
   "cell_type": "code",
   "execution_count": 153,
   "id": "dab3ae94",
   "metadata": {},
   "outputs": [
    {
     "name": "stdout",
     "output_type": "stream",
     "text": [
      "El producto \"Pantalon\" ha sido añadido al inventario con un precio de $15 y una cantidad de 30 unidad(es).\n"
     ]
    }
   ],
   "source": [
    "mi_tienda.agregar_producto('Pantalon', 15, 30)\n"
   ]
  },
  {
   "cell_type": "code",
   "execution_count": 154,
   "id": "7d6f62ca",
   "metadata": {},
   "outputs": [
    {
     "name": "stdout",
     "output_type": "stream",
     "text": [
      "El producto \"Pantalon\" ya existe y se ha actualizado la cantidad en el inventario a 60 unidad(es).\n"
     ]
    }
   ],
   "source": [
    "mi_tienda.agregar_producto('Pantalon', 15, 30)"
   ]
  },
  {
   "cell_type": "markdown",
   "id": "03c145a6",
   "metadata": {},
   "source": [
    "------------------------------------------------"
   ]
  },
  {
   "cell_type": "markdown",
   "id": "4dfff817",
   "metadata": {},
   "source": [
    "### PRUEBA (en sucio)"
   ]
  },
  {
   "cell_type": "code",
   "execution_count": 123,
   "id": "8cc1e1ba",
   "metadata": {},
   "outputs": [],
   "source": [
    "inventario = []\n",
    "clientes = {}\n",
    "ventas_totales = 0\n",
    "inventario.append({'nombre': 'Camisa', 'precio': 20, 'cantidad': 40})\n",
    "inventario.append({'nombre': 'Pantalon', 'precio': 25, 'cantidad': 50})"
   ]
  },
  {
   "cell_type": "code",
   "execution_count": 132,
   "id": "76ff2fc1",
   "metadata": {},
   "outputs": [],
   "source": [
    "nombre = 'Chaqueta'\n",
    "precio = 10\n",
    "cantidad = 100\n",
    "\n",
    "ropa = []\n",
    "\n",
    "for i in inventario:\n",
    "    ropa.append(i['nombre'])\n",
    "    if nombre == i['nombre']: # verifica si coincide el nombre del nuevo producto con uno del inventario, donde i es el diccionario\n",
    "        i['cantidad'] += cantidad\n",
    "\n",
    "if nombre not in ropa:\n",
    "    inventario.append({'nombre': nombre, 'precio': precio, 'cantidad': cantidad})"
   ]
  },
  {
   "cell_type": "code",
   "execution_count": null,
   "id": "8a1f6873",
   "metadata": {},
   "outputs": [],
   "source": [
    "nombre = 'Chaqueta'\n",
    "precio = 10\n",
    "cantidad = 100\n",
    "\n",
    "existe_en_inventario = False\n",
    "\n",
    "for i in inventario:\n",
    "    if nombre == i['nombre']: # verifica si coincide el nombre del nuevo producto con uno del inventario, donde i es el diccionario\n",
    "        i['cantidad'] += cantidad\n",
    "        existe_en_inventario = True\n",
    "        break\n",
    "\n",
    "if existe_en_inventario == False:\n",
    "    inventario.append({'nombre': nombre, 'precio': precio, 'cantidad': cantidad})"
   ]
  },
  {
   "cell_type": "code",
   "execution_count": null,
   "id": "ab6a93f6",
   "metadata": {},
   "outputs": [],
   "source": [
    "nombre = 'Chaqueta'\n",
    "precio = 10\n",
    "cantidad = 100\n",
    "\n",
    "for i in inventario:\n",
    "    if nombre == i['nombre']: # verifica si coincide el nombre del nuevo producto con uno del inventario, donde i es el diccionario\n",
    "        i['cantidad'] += cantidad\n",
    "    else:\n",
    "        inventario.append({'nombre': nombre, 'precio': precio, 'cantidad': cantidad})\n"
   ]
  },
  {
   "cell_type": "code",
   "execution_count": 133,
   "id": "573799ec",
   "metadata": {},
   "outputs": [
    {
     "data": {
      "text/plain": [
       "[{'nombre': 'Camisa', 'precio': 20, 'cantidad': 40},\n",
       " {'nombre': 'Pantalon', 'precio': 25, 'cantidad': 50},\n",
       " {'nombre': 'Chaqueta', 'precio': 10, 'cantidad': 300}]"
      ]
     },
     "execution_count": 133,
     "metadata": {},
     "output_type": "execute_result"
    }
   ],
   "source": [
    "inventario"
   ]
  },
  {
   "cell_type": "code",
   "execution_count": 128,
   "id": "9ab9e95e",
   "metadata": {},
   "outputs": [
    {
     "data": {
      "text/plain": [
       "['Camisa', 'Pantalon']"
      ]
     },
     "execution_count": 128,
     "metadata": {},
     "output_type": "execute_result"
    }
   ],
   "source": [
    "ropa"
   ]
  },
  {
   "cell_type": "code",
   "execution_count": null,
   "id": "c2a768f0",
   "metadata": {},
   "outputs": [],
   "source": [
    "nombre = 'Chaqueta'\n",
    "precio = 10\n",
    "cantidad = 100\n",
    "\n",
    "\n",
    "    if nombre != i['nombre']: \n",
    "        inventario.append({'nombre': nombre, 'precio': precio, 'cantidad': cantidad})\n",
    "        break\n",
    "    else: \n",
    "        i['cantidad'] += cantidad\n",
    "        break"
   ]
  },
  {
   "cell_type": "code",
   "execution_count": 120,
   "id": "b514a016",
   "metadata": {},
   "outputs": [
    {
     "data": {
      "text/plain": [
       "[{'nombre': 'Camisa', 'precio': 20, 'cantidad': 40},\n",
       " {'nombre': 'Pantalon', 'precio': 25, 'cantidad': 50},\n",
       " {'nombre': 'Chaqueta', 'precio': 10, 'cantidad': 100}]"
      ]
     },
     "execution_count": 120,
     "metadata": {},
     "output_type": "execute_result"
    }
   ],
   "source": [
    "inventario"
   ]
  }
 ],
 "metadata": {
  "kernelspec": {
   "display_name": "base",
   "language": "python",
   "name": "python3"
  },
  "language_info": {
   "codemirror_mode": {
    "name": "ipython",
    "version": 3
   },
   "file_extension": ".py",
   "mimetype": "text/x-python",
   "name": "python",
   "nbconvert_exporter": "python",
   "pygments_lexer": "ipython3",
   "version": "3.12.7"
  }
 },
 "nbformat": 4,
 "nbformat_minor": 5
}
