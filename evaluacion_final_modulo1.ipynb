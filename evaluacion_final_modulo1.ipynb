{
 "cells": [
  {
   "cell_type": "markdown",
   "id": "d64da62d",
   "metadata": {},
   "source": [
    "# Evaluación Final Módulo 1"
   ]
  },
  {
   "cell_type": "code",
   "execution_count": 12,
   "id": "9308e303",
   "metadata": {},
   "outputs": [],
   "source": [
    "class Tienda: \n",
    "    def __init__(self):\n",
    "        self.inventario = [] # lista\n",
    "        self.clientes = {} # diccionario\n",
    "        self.ventas_totales = 0.0 # float (decimales) \n",
    "    \n",
    "    def agregar_producto(self, nombre, precio, cantidad):\n",
    "        ropa = []\n",
    "        for p in self.inventario: #recorre la lista del inventario, cada elemento de la lista a su vez es un diccionario.\n",
    "            ropa.append(p['nombre']) # añadir a la lista \"ROPA\" los diferentes productos del inventario.\n",
    "            if nombre == p['nombre']: # verifica si coincide el nombre del nuevo producto con uno del inventario, donde p es el diccionario\n",
    "                p['cantidad'] += cantidad # si existe, actualiza el inventario y añade la \"cantidad\".\n",
    "                print(f'El producto \"{nombre}\" ya existe y se ha actualizado la cantidad en el inventario a {p['cantidad']} unidad(es).')\n",
    "\n",
    "        if nombre not in ropa: # si el nombre NO se encuentra en la lista ropa entonces se añade al inventario\n",
    "            self.inventario.append({'nombre': nombre, 'precio': precio, 'cantidad': cantidad}) \n",
    "            print(f'El producto \"{nombre}\" ha sido añadido al inventario con un precio de ${precio} y una cantidad de {cantidad} unidad(es).')\n",
    "\n",
    "    def ver_inventario(self): \n",
    "        for p in self.inventario:\n",
    "            print(f'Nombre: {p['nombre']}, Precio: ${p['precio']}, Cantidad: {p['cantidad']}.')\n",
    "\n",
    "    def buscar_producto(self, nombre): \n",
    "        existe_prod = False # se crea una variable de tipo boleano para comprobar si el producto existe en el inventario. Por defecto se inicializa a False dándose por hecho que no existe inicialmente.\n",
    "        for p in self.inventario:\n",
    "            if nombre == p['nombre']:\n",
    "                print(f'Nombre: {p['nombre']}, Precio: ${p['precio']}, Cantidad: {p['cantidad']}.')\n",
    "                existe_prod = True # se cambia la variable a True porque el producto se encuetra en el inventario. \n",
    "                break # se para cuando encuentra el producto en el inventario para que no siga iterando. \n",
    "\n",
    "        if not existe_prod: # se comprueba que el producto no está en el inventario y se indica en un mensaje. \n",
    "           print(f'Producto \"{nombre}\" no ha sido encontrado.')\n",
    "    \n",
    "    def calcular_valor_inventario(self):\n",
    "        valor_inventario = 0\n",
    "        for p in self.inventario:\n",
    "            valor_inventario += p['precio'] * p['cantidad']\n",
    "        print(f'El valor total del inventario es ${valor_inventario}.')\n",
    "\n"
   ]
  },
  {
   "cell_type": "code",
   "execution_count": 13,
   "id": "76f17d47",
   "metadata": {},
   "outputs": [],
   "source": [
    "mi_tienda = Tienda()"
   ]
  },
  {
   "cell_type": "code",
   "execution_count": 14,
   "id": "429627ad",
   "metadata": {},
   "outputs": [
    {
     "name": "stdout",
     "output_type": "stream",
     "text": [
      "El producto \"Camisa\" ha sido añadido al inventario con un precio de $20 y una cantidad de 40 unidad(es).\n"
     ]
    }
   ],
   "source": [
    "mi_tienda.agregar_producto('Camisa', 20, 40)\n"
   ]
  },
  {
   "cell_type": "code",
   "execution_count": 15,
   "id": "dab3ae94",
   "metadata": {},
   "outputs": [
    {
     "name": "stdout",
     "output_type": "stream",
     "text": [
      "El producto \"Pantalon\" ha sido añadido al inventario con un precio de $15 y una cantidad de 30 unidad(es).\n"
     ]
    }
   ],
   "source": [
    "mi_tienda.agregar_producto('Pantalon', 15, 30)\n"
   ]
  },
  {
   "cell_type": "code",
   "execution_count": 16,
   "id": "7d6f62ca",
   "metadata": {},
   "outputs": [
    {
     "name": "stdout",
     "output_type": "stream",
     "text": [
      "El producto \"Pantalon\" ya existe y se ha actualizado la cantidad en el inventario a 60 unidad(es).\n"
     ]
    }
   ],
   "source": [
    "mi_tienda.agregar_producto('Pantalon', 15, 30)"
   ]
  },
  {
   "cell_type": "code",
   "execution_count": 17,
   "id": "0ed48a58",
   "metadata": {},
   "outputs": [
    {
     "name": "stdout",
     "output_type": "stream",
     "text": [
      "Nombre: Camisa, Precio: $20, Cantidad: 40.\n",
      "Nombre: Pantalon, Precio: $15, Cantidad: 60.\n"
     ]
    }
   ],
   "source": [
    "mi_tienda.ver_inventario()"
   ]
  },
  {
   "cell_type": "code",
   "execution_count": 18,
   "id": "4d9bb512",
   "metadata": {},
   "outputs": [
    {
     "name": "stdout",
     "output_type": "stream",
     "text": [
      "El producto \"Chaqueta\" ha sido añadido al inventario con un precio de $50 y una cantidad de 10 unidad(es).\n"
     ]
    }
   ],
   "source": [
    "mi_tienda.agregar_producto('Chaqueta', 50, 10)"
   ]
  },
  {
   "cell_type": "code",
   "execution_count": 19,
   "id": "aaa87773",
   "metadata": {},
   "outputs": [
    {
     "name": "stdout",
     "output_type": "stream",
     "text": [
      "Nombre: Camisa, Precio: $20, Cantidad: 40.\n",
      "Nombre: Pantalon, Precio: $15, Cantidad: 60.\n",
      "Nombre: Chaqueta, Precio: $50, Cantidad: 10.\n"
     ]
    }
   ],
   "source": [
    "mi_tienda.ver_inventario()"
   ]
  },
  {
   "cell_type": "code",
   "execution_count": 20,
   "id": "d9865af3",
   "metadata": {},
   "outputs": [
    {
     "name": "stdout",
     "output_type": "stream",
     "text": [
      "Producto \"Falda\" no ha sido encontrado.\n"
     ]
    }
   ],
   "source": [
    "mi_tienda.buscar_producto('Falda')"
   ]
  },
  {
   "cell_type": "code",
   "execution_count": 21,
   "id": "25a29e1e",
   "metadata": {},
   "outputs": [
    {
     "name": "stdout",
     "output_type": "stream",
     "text": [
      "Nombre: Chaqueta, Precio: $50, Cantidad: 10.\n"
     ]
    }
   ],
   "source": [
    "mi_tienda.buscar_producto('Chaqueta')"
   ]
  },
  {
   "cell_type": "code",
   "execution_count": 22,
   "id": "519ce3a4",
   "metadata": {},
   "outputs": [
    {
     "name": "stdout",
     "output_type": "stream",
     "text": [
      "El valor total del inventario es $2200.\n"
     ]
    }
   ],
   "source": [
    "mi_tienda.calcular_valor_inventario()"
   ]
  },
  {
   "cell_type": "markdown",
   "id": "03c145a6",
   "metadata": {},
   "source": [
    "------------------------------------------------"
   ]
  },
  {
   "cell_type": "markdown",
   "id": "4dfff817",
   "metadata": {},
   "source": [
    "### PRUEBA (en sucio)"
   ]
  },
  {
   "cell_type": "code",
   "execution_count": 123,
   "id": "8cc1e1ba",
   "metadata": {},
   "outputs": [],
   "source": [
    "inventario = []\n",
    "clientes = {}\n",
    "ventas_totales = 0\n",
    "inventario.append({'nombre': 'Camisa', 'precio': 20, 'cantidad': 40})\n",
    "inventario.append({'nombre': 'Pantalon', 'precio': 25, 'cantidad': 50})"
   ]
  },
  {
   "cell_type": "code",
   "execution_count": 132,
   "id": "76ff2fc1",
   "metadata": {},
   "outputs": [],
   "source": [
    "nombre = 'Chaqueta'\n",
    "precio = 10\n",
    "cantidad = 100\n",
    "\n",
    "ropa = []\n",
    "\n",
    "for i in inventario:\n",
    "    ropa.append(i['nombre'])\n",
    "    if nombre == i['nombre']: # verifica si coincide el nombre del nuevo producto con uno del inventario, donde i es el diccionario\n",
    "        i['cantidad'] += cantidad\n",
    "\n",
    "if nombre not in ropa:\n",
    "    inventario.append({'nombre': nombre, 'precio': precio, 'cantidad': cantidad})"
   ]
  },
  {
   "cell_type": "code",
   "execution_count": null,
   "id": "8a1f6873",
   "metadata": {},
   "outputs": [],
   "source": [
    "nombre = 'Chaqueta'\n",
    "precio = 10\n",
    "cantidad = 100\n",
    "\n",
    "existe_en_inventario = False\n",
    "\n",
    "for i in inventario:\n",
    "    if nombre == i['nombre']: # verifica si coincide el nombre del nuevo producto con uno del inventario, donde i es el diccionario\n",
    "        i['cantidad'] += cantidad\n",
    "        existe_en_inventario = True\n",
    "        break\n",
    "\n",
    "if existe_en_inventario == False:\n",
    "    inventario.append({'nombre': nombre, 'precio': precio, 'cantidad': cantidad})"
   ]
  },
  {
   "cell_type": "code",
   "execution_count": null,
   "id": "ab6a93f6",
   "metadata": {},
   "outputs": [],
   "source": [
    "nombre = 'Chaqueta'\n",
    "precio = 10\n",
    "cantidad = 100\n",
    "\n",
    "for i in inventario:\n",
    "    if nombre == i['nombre']: # verifica si coincide el nombre del nuevo producto con uno del inventario, donde i es el diccionario\n",
    "        i['cantidad'] += cantidad\n",
    "    else:\n",
    "        inventario.append({'nombre': nombre, 'precio': precio, 'cantidad': cantidad})\n"
   ]
  },
  {
   "cell_type": "code",
   "execution_count": 133,
   "id": "573799ec",
   "metadata": {},
   "outputs": [
    {
     "data": {
      "text/plain": [
       "[{'nombre': 'Camisa', 'precio': 20, 'cantidad': 40},\n",
       " {'nombre': 'Pantalon', 'precio': 25, 'cantidad': 50},\n",
       " {'nombre': 'Chaqueta', 'precio': 10, 'cantidad': 300}]"
      ]
     },
     "execution_count": 133,
     "metadata": {},
     "output_type": "execute_result"
    }
   ],
   "source": [
    "inventario"
   ]
  },
  {
   "cell_type": "code",
   "execution_count": 128,
   "id": "9ab9e95e",
   "metadata": {},
   "outputs": [
    {
     "data": {
      "text/plain": [
       "['Camisa', 'Pantalon']"
      ]
     },
     "execution_count": 128,
     "metadata": {},
     "output_type": "execute_result"
    }
   ],
   "source": [
    "ropa"
   ]
  },
  {
   "cell_type": "code",
   "execution_count": null,
   "id": "c2a768f0",
   "metadata": {},
   "outputs": [],
   "source": [
    "nombre = 'Chaqueta'\n",
    "precio = 10\n",
    "cantidad = 100\n",
    "\n",
    "\n",
    "    if nombre != i['nombre']: \n",
    "        inventario.append({'nombre': nombre, 'precio': precio, 'cantidad': cantidad})\n",
    "        break\n",
    "    else: \n",
    "        i['cantidad'] += cantidad\n",
    "        break"
   ]
  },
  {
   "cell_type": "code",
   "execution_count": 120,
   "id": "b514a016",
   "metadata": {},
   "outputs": [
    {
     "data": {
      "text/plain": [
       "[{'nombre': 'Camisa', 'precio': 20, 'cantidad': 40},\n",
       " {'nombre': 'Pantalon', 'precio': 25, 'cantidad': 50},\n",
       " {'nombre': 'Chaqueta', 'precio': 10, 'cantidad': 100}]"
      ]
     },
     "execution_count": 120,
     "metadata": {},
     "output_type": "execute_result"
    }
   ],
   "source": [
    "inventario"
   ]
  },
  {
   "cell_type": "code",
   "execution_count": 68,
   "id": "ea2467c8",
   "metadata": {},
   "outputs": [
    {
     "name": "stdout",
     "output_type": "stream",
     "text": [
      "te pillé. por favor, inserte una cantidad numérica\n",
      "te pillé. por favor, inserte una cantidad numérica\n",
      "Has seleccionado una cantidad de 5 del producto X\n"
     ]
    }
   ],
   "source": [
    "reintentar = False\n",
    "#cantidad_producto=0\n",
    "while True:\n",
    "    try:\n",
    "        if reintentar:\n",
    "            cantidad_producto = int(input('inserte cantidad del producto. por favor, un número, no es tan difícil'))\n",
    "        else:\n",
    "            cantidad_producto = int(input('inserte cantidad del producto'))    \n",
    "    except ValueError as e:\n",
    "        print(f'te pillé. por favor, inserte una cantidad numérica')\n",
    "        reintentar = True\n",
    "    else:\n",
    "        print(f'Has seleccionado una cantidad de {cantidad_producto} del producto X')\n",
    "        break\n"
   ]
  }
 ],
 "metadata": {
  "kernelspec": {
   "display_name": "base",
   "language": "python",
   "name": "python3"
  },
  "language_info": {
   "codemirror_mode": {
    "name": "ipython",
    "version": 3
   },
   "file_extension": ".py",
   "mimetype": "text/x-python",
   "name": "python",
   "nbconvert_exporter": "python",
   "pygments_lexer": "ipython3",
   "version": "3.12.7"
  }
 },
 "nbformat": 4,
 "nbformat_minor": 5
}
