{
 "cells": [
  {
   "cell_type": "markdown",
   "id": "d64da62d",
   "metadata": {},
   "source": [
    "# Evaluación Final Módulo 1"
   ]
  },
  {
   "cell_type": "code",
   "execution_count": null,
   "id": "9308e303",
   "metadata": {},
   "outputs": [],
   "source": [
    "class Tienda: \n",
    "    def __init__(self):\n",
    "        self.inventario = [] # lista de diccionarios. \n",
    "        self.clientes = {} # diccionario\n",
    "        self.ventas_totales = 0.0 # float (decimales) \n",
    "    \n",
    "    def agregar_producto(self, nombre, precio, cantidad):\n",
    "        producto = [] # se crea una lista vacia donde se añadiran los diferentes productos. \n",
    "        precio = float(precio)\n",
    "        cantidad = int(cantidad)\n",
    "\n",
    "        # TRY .... EXCEPT -> mirarlo y usarlo en esta función\n",
    "\n",
    "\n",
    "        for p in self.inventario: #recorre la lista del inventario, cada elemento de la lista a su vez es un diccionario.\n",
    "            producto.append(p['nombre']) # añadir a la lista \"producto\" los diferentes productos del inventario.\n",
    "            if nombre == p['nombre']: # verifica si coincide el nombre del nuevo producto con uno del inventario, donde p es el diccionario\n",
    "                p['cantidad'] += cantidad # si existe, actualiza el inventario y añade la \"cantidad\".\n",
    "                print(f'El producto \"{nombre}\" ya existe y se ha actualizado la cantidad en el inventario a {p['cantidad']} unidad(es).')\n",
    "\n",
    "        if nombre not in producto: # si el nombre NO se encuentra en la lista producto entonces se añade al inventario\n",
    "            self.inventario.append({'nombre': nombre, 'precio': precio, 'cantidad': cantidad}) \n",
    "            print(f'El producto \"{nombre}\" ha sido añadido al inventario con un precio de ${precio} y una cantidad de {cantidad} unidad(es).')\n",
    "\n",
    "    def ver_inventario(self): \n",
    "        for p in self.inventario: # Se recorre inventario para ir sacando por pantalla todos los productos que se encuentra en ella. \n",
    "            print(f'Nombre: {p['nombre']}, Precio: ${p['precio']}, Cantidad: {p['cantidad']}.')\n",
    "\n",
    "    def buscar_producto(self, nombre): \n",
    "        existe_prod = False # se crea una variable de tipo boleano para comprobar si el producto existe en el inventario. Por defecto se inicializa a False dándose por hecho que no existe inicialmente.\n",
    "        for p in self.inventario:\n",
    "            if nombre == p['nombre']:\n",
    "                print(f'Nombre: {p['nombre']}, Precio: ${p['precio']}, Cantidad: {p['cantidad']}.')\n",
    "                existe_prod = True # se cambia la variable a True porque el producto se encuetra en el inventario.\n",
    "                break # se para cuando encuentra el producto en el inventario para que no siga iterando. \n",
    "\n",
    "        if not existe_prod: # se comprueba que el producto no está en el inventario y se indica en un mensaje. \n",
    "           print(f'Producto \"{nombre}\" no ha sido encontrado.')\n",
    "        \n",
    "        return existe_prod # Devuelve: True si existe el producto y False si no existe. (Para def realizar_compra) \n",
    "        \n",
    "    def actualizar_stock(self, nombre, cantidad): \n",
    "        # FORMA SIN TENER EN CUENTA UN STOCK NEGATIVO        \n",
    "        #existe_prod = False # se crea una variable de tipo boleano para comprobar si el producto existe en el inventario. Por defecto se inicializa a False dándose por hecho que no existe inicialmente.\n",
    "        #for p in self.inventario: # Se recorre el inventario para buscar el producto que se quiere actualizar\n",
    "        #    if nombre == p['nombre']: # Si se encuentra el producto a actualizar\n",
    "        #        p['cantidad'] += cantidad # Se actualiza la cantidad, sumándoselo al stock existente\n",
    "        #        print(f'El producto \"{nombre}\" ha sido actualizado. Su stock actual es de {p['cantidad']}.') # Se saca un mensaje por pantalla indicando que se ha actualizado.\n",
    "        #        existe_prod = True # Se cambia la variable a True porque se ha encontrado el producto en el inventario. \n",
    "        #        break # se para cuando encuentra el producto en el inventario para que no siga iterando. \n",
    "        \n",
    "        #if not existe_prod: # Si el producto a actualizar no se encuentra en el inventario. \n",
    "        #    print(f'El producto \"{nombre}\" no se encuentra en el inventario.') # Se indica con un mensaje. \n",
    "\n",
    "        existe_prod = False\n",
    "        for p in self.inventario: \n",
    "            if nombre == p['nombre']:\n",
    "                existe_prod = True \n",
    "                if cantidad < 0: \n",
    "                    resta = p['cantidad'] + cantidad\n",
    "                    if resta < 0: \n",
    "                        print('ERROR')\n",
    "                        print(f'La cantidad en stock de \"{nombre}\" es negativa. No se puede actualizar el stock.')\n",
    "                    elif resta >= 0: \n",
    "                        p['cantidad'] += cantidad\n",
    "                        print(f'El producto \"{nombre}\" ha sido actualizado. Su stock actual es de {p['cantidad']}.')\n",
    "                elif cantidad > 0:\n",
    "                    p['cantidad'] += cantidad\n",
    "                    print(f'El producto \"{nombre}\" ha sido actualizado. Su stock actual es de {p['cantidad']}.')\n",
    "                else:\n",
    "                    print(f'El producto \"{nombre}\" no ha actualizado su stock debido a que la cantidad a añadir es CERO.')\n",
    "                \n",
    "                break\n",
    "        \n",
    "        if not existe_prod: # Si el producto a actualizar no se encuentra en el inventario. \n",
    "            print(f'El producto \"{nombre}\" no se encuentra en el inventario.') # Se indica con un mensaje. \n",
    "\n",
    "\n",
    "    def eliminar_producto(self, nombre): \n",
    "        contador = 0 # Un contador que se inicia en 0 para saber la posición en la lista en cada iteración para que cuando encontremos el producto a eliminar tengamos su posición.  \n",
    "        self.buscar_producto(nombre) # Llamando a la función buscar_producto. En el caso de que el producto que se quiere eliminar no exista esta función lo imprime por pantalla. \n",
    "                                     # En el caso de que el producto que se quiere eliminar exista, dará la información completa en el inventario antes de eliminarlo. \n",
    "        \n",
    "        for p in self.inventario: # Recorremos el inventario para buscar el producto que se desea eliminar. \n",
    "            if nombre == p['nombre']:# Si el nombre indicado se encuentra en nuestro inventario\n",
    "                self.inventario.pop(contador) # Se eliminará de inventario el producto con la función pop, y utilizando la posición que la variable contador nos indica\n",
    "                #encontrar = self.buscar_producto(nombre)\n",
    "                print(f'El producto \"{nombre}\" ha sido eliminado correctamente.')\n",
    "                break # Se para cuando encuentra el producto a eliminar\n",
    "            contador +=1 # Va aumentando en uno la variable contador en cada vuelta que da. \n",
    "        \n",
    "        #if not encontrar:\n",
    "        #   print(f'No ha sido encontrado el producto \"{nombre}\".')\n",
    "            \n",
    "    def calcular_valor_inventario(self):\n",
    "        valor_inventario = 0 # Iniciamos una variable con nombre VALOR a cero\n",
    "        for p in self.inventario: # Recorremos el inventario \n",
    "            valor_inventario += p['precio'] * p['cantidad'] # para ir añadiendo en la variable valor_inventario la suma-producto de precio por la cantidad que hay en stock\n",
    "        print(f'El valor total del inventario es ${valor_inventario}.')\n",
    "\n",
    "\n",
    "    def realizar_compra(self):\n",
    "        compra = True\n",
    "        lista_compra = []\n",
    "        total = 0\n",
    "            \n",
    "        while compra == True: # variable compra es la que cambiará a False cuando queramos que el while termine\n",
    "            print('Productos del inventario:')\n",
    "            self.ver_inventario() # Para que el cliente sepa que hay en el inventario\n",
    "            selec_producto = input('Seleccione un producto:') # Indica el producto que desea\n",
    "        \n",
    "            existe_producto = self.buscar_producto(selec_producto) # Verificar que el producto que ha indicado existe, mediante la función buscar_producto.\n",
    "            if not existe_producto: # Si no existe el producto indicado, volvemos a indicarle que 'Seleccione un producto' \n",
    "                continue\n",
    "\n",
    "            for p in self.inventario: # Busco en el inventario el producto seleccionado por el cliente en el inventario \n",
    "                if selec_producto == p['nombre']: \n",
    "                    total += p['precio'] # para sumar su precio a la variable total, iniciada más arriba con un cero. \n",
    "                    \n",
    "            lista_compra.append(selec_producto) # vamos añadiendo los productos seleccionados por el cliente en una lista\n",
    "            self.actualizar_stock(selec_producto, -1) # Actualizamos el stock con la función actualizar_stock\n",
    "            seguir_comprando = input('¿Desea seguir comprando? Indique con un SI o con un NO.') # Comprobamos si el cliente quiere seguir comprando o no.\n",
    "\n",
    "            if seguir_comprando.upper() == 'SI': # Si quiere seguir comprando, la variable compra = True y empezaremos de nuevo el bucle while\n",
    "                compra = True\n",
    "\n",
    "            elif seguir_comprando.upper() == 'NO': # Si no quiere seguir comprando\n",
    "                print(f'El carrito con sus producto es el siguiente: {lista_compra}.') # Le indicaremos los productos que hay en su carrito\n",
    "                print(f'El coste total de su compra es de {total}') # y el coste total de su compra. \n",
    "                compra = False # La variable compra la igualaremos a False para que le bucle while termine. \n",
    "\n",
    "            else: \n",
    "                print('RESPUESTA NO VALIDA.') # Está el caso de no ponga ni SI ni NO, en ese caso le diremos que su respuesta no es valida\n",
    "                print(f'El carrito con sus producto es el siguiente: {lista_compra}.') # LE mostraremos su carrito con los productos\n",
    "                print(f'El coste total de su compra es de {total}') # El coste total de su compra\n",
    "                compra = False # y la variable compra la igualaremos a False para finalizar el bucle while. "
   ]
  },
  {
   "cell_type": "code",
   "execution_count": 51,
   "id": "76f17d47",
   "metadata": {},
   "outputs": [],
   "source": [
    "mi_tienda = Tienda()"
   ]
  },
  {
   "cell_type": "code",
   "execution_count": 52,
   "id": "429627ad",
   "metadata": {},
   "outputs": [
    {
     "name": "stdout",
     "output_type": "stream",
     "text": [
      "El producto \"Camisa\" ha sido añadido al inventario con un precio de $2 y una cantidad de 2 unidad(es).\n"
     ]
    }
   ],
   "source": [
    "mi_tienda.agregar_producto('Camisa', 2, 2)\n"
   ]
  },
  {
   "cell_type": "code",
   "execution_count": 53,
   "id": "dab3ae94",
   "metadata": {},
   "outputs": [
    {
     "name": "stdout",
     "output_type": "stream",
     "text": [
      "El producto \"Pantalon\" ha sido añadido al inventario con un precio de $15 y una cantidad de 30 unidad(es).\n"
     ]
    }
   ],
   "source": [
    "mi_tienda.agregar_producto('Pantalon', 15, 30)\n"
   ]
  },
  {
   "cell_type": "code",
   "execution_count": 54,
   "id": "7d6f62ca",
   "metadata": {},
   "outputs": [
    {
     "name": "stdout",
     "output_type": "stream",
     "text": [
      "El producto \"Pantalon\" ya existe y se ha actualizado la cantidad en el inventario a 60 unidad(es).\n"
     ]
    }
   ],
   "source": [
    "mi_tienda.agregar_producto('Pantalon', 15, 30)"
   ]
  },
  {
   "cell_type": "code",
   "execution_count": 55,
   "id": "0ed48a58",
   "metadata": {},
   "outputs": [
    {
     "name": "stdout",
     "output_type": "stream",
     "text": [
      "Nombre: Camisa, Precio: $2, Cantidad: 2.\n",
      "Nombre: Pantalon, Precio: $15, Cantidad: 60.\n"
     ]
    }
   ],
   "source": [
    "mi_tienda.ver_inventario()"
   ]
  },
  {
   "cell_type": "code",
   "execution_count": 56,
   "id": "4d9bb512",
   "metadata": {},
   "outputs": [
    {
     "name": "stdout",
     "output_type": "stream",
     "text": [
      "El producto \"Chaqueta\" ha sido añadido al inventario con un precio de $50 y una cantidad de 10 unidad(es).\n"
     ]
    }
   ],
   "source": [
    "mi_tienda.agregar_producto('Chaqueta', 50, 10)"
   ]
  },
  {
   "cell_type": "code",
   "execution_count": 57,
   "id": "aaa87773",
   "metadata": {},
   "outputs": [
    {
     "name": "stdout",
     "output_type": "stream",
     "text": [
      "Nombre: Camisa, Precio: $2, Cantidad: 2.\n",
      "Nombre: Pantalon, Precio: $15, Cantidad: 60.\n",
      "Nombre: Chaqueta, Precio: $50, Cantidad: 10.\n"
     ]
    }
   ],
   "source": [
    "mi_tienda.ver_inventario()"
   ]
  },
  {
   "cell_type": "code",
   "execution_count": 58,
   "id": "d9865af3",
   "metadata": {},
   "outputs": [
    {
     "name": "stdout",
     "output_type": "stream",
     "text": [
      "Producto \"Falda\" no ha sido encontrado.\n"
     ]
    },
    {
     "data": {
      "text/plain": [
       "False"
      ]
     },
     "execution_count": 58,
     "metadata": {},
     "output_type": "execute_result"
    }
   ],
   "source": [
    "mi_tienda.buscar_producto('Falda')"
   ]
  },
  {
   "cell_type": "code",
   "execution_count": 59,
   "id": "25a29e1e",
   "metadata": {},
   "outputs": [
    {
     "name": "stdout",
     "output_type": "stream",
     "text": [
      "Nombre: Chaqueta, Precio: $50, Cantidad: 10.\n"
     ]
    },
    {
     "data": {
      "text/plain": [
       "True"
      ]
     },
     "execution_count": 59,
     "metadata": {},
     "output_type": "execute_result"
    }
   ],
   "source": [
    "mi_tienda.buscar_producto('Chaqueta')"
   ]
  },
  {
   "cell_type": "code",
   "execution_count": 60,
   "id": "38027c4c",
   "metadata": {},
   "outputs": [
    {
     "name": "stdout",
     "output_type": "stream",
     "text": [
      "El producto \"Camisa\" ha sido actualizado. Su stock actual es de 42.\n"
     ]
    }
   ],
   "source": [
    "mi_tienda.actualizar_stock('Camisa', 40)"
   ]
  },
  {
   "cell_type": "code",
   "execution_count": 61,
   "id": "bf1f8117",
   "metadata": {},
   "outputs": [
    {
     "name": "stdout",
     "output_type": "stream",
     "text": [
      "El producto \"Falda\" no se encuentra en el inventario.\n"
     ]
    }
   ],
   "source": [
    "mi_tienda.actualizar_stock('Falda', 10)"
   ]
  },
  {
   "cell_type": "code",
   "execution_count": 62,
   "id": "032a1863",
   "metadata": {},
   "outputs": [
    {
     "name": "stdout",
     "output_type": "stream",
     "text": [
      "Nombre: Camisa, Precio: $2, Cantidad: 42.\n",
      "Nombre: Pantalon, Precio: $15, Cantidad: 60.\n",
      "Nombre: Chaqueta, Precio: $50, Cantidad: 10.\n"
     ]
    }
   ],
   "source": [
    "mi_tienda.ver_inventario()"
   ]
  },
  {
   "cell_type": "code",
   "execution_count": 63,
   "id": "a9939879",
   "metadata": {},
   "outputs": [
    {
     "name": "stdout",
     "output_type": "stream",
     "text": [
      "ERROR\n",
      "La cantidad en stock de \"Pantalon\" es negativa.\n"
     ]
    }
   ],
   "source": [
    "mi_tienda.actualizar_stock('Pantalon', -100)"
   ]
  },
  {
   "cell_type": "code",
   "execution_count": 64,
   "id": "86217a0a",
   "metadata": {},
   "outputs": [
    {
     "name": "stdout",
     "output_type": "stream",
     "text": [
      "Nombre: Camisa, Precio: $2, Cantidad: 42.\n",
      "Nombre: Pantalon, Precio: $15, Cantidad: 60.\n",
      "Nombre: Chaqueta, Precio: $50, Cantidad: 10.\n"
     ]
    }
   ],
   "source": [
    "mi_tienda.ver_inventario()"
   ]
  },
  {
   "cell_type": "code",
   "execution_count": 65,
   "id": "4c9e2542",
   "metadata": {},
   "outputs": [
    {
     "name": "stdout",
     "output_type": "stream",
     "text": [
      "El producto \"Camisa\" ha sido actualizado. Su stock actual es de 2.\n"
     ]
    }
   ],
   "source": [
    "mi_tienda.actualizar_stock('Camisa', -40)"
   ]
  },
  {
   "cell_type": "code",
   "execution_count": 66,
   "id": "8bc1700a",
   "metadata": {},
   "outputs": [
    {
     "name": "stdout",
     "output_type": "stream",
     "text": [
      "Nombre: Camisa, Precio: $2, Cantidad: 2.\n",
      "Nombre: Pantalon, Precio: $15, Cantidad: 60.\n",
      "Nombre: Chaqueta, Precio: $50, Cantidad: 10.\n"
     ]
    }
   ],
   "source": [
    "mi_tienda.ver_inventario()"
   ]
  },
  {
   "cell_type": "code",
   "execution_count": 67,
   "id": "eba61861",
   "metadata": {},
   "outputs": [
    {
     "name": "stdout",
     "output_type": "stream",
     "text": [
      "El producto \"Camisa\" no ha actualizado su stock debido a que la cantidad a añadir es CERO.\n"
     ]
    }
   ],
   "source": [
    "mi_tienda.actualizar_stock('Camisa', 0)"
   ]
  },
  {
   "cell_type": "code",
   "execution_count": 68,
   "id": "588f86a4",
   "metadata": {},
   "outputs": [
    {
     "name": "stdout",
     "output_type": "stream",
     "text": [
      "Nombre: Camisa, Precio: $2, Cantidad: 2.\n",
      "Nombre: Pantalon, Precio: $15, Cantidad: 60.\n",
      "Nombre: Chaqueta, Precio: $50, Cantidad: 10.\n"
     ]
    }
   ],
   "source": [
    "mi_tienda.ver_inventario()"
   ]
  },
  {
   "cell_type": "code",
   "execution_count": 48,
   "id": "677144bd",
   "metadata": {},
   "outputs": [
    {
     "name": "stdout",
     "output_type": "stream",
     "text": [
      "Producto \"Vestido\" no ha sido encontrado.\n"
     ]
    }
   ],
   "source": [
    "mi_tienda.eliminar_producto('Vestido')"
   ]
  },
  {
   "cell_type": "code",
   "execution_count": 49,
   "id": "1389c8e9",
   "metadata": {},
   "outputs": [
    {
     "name": "stdout",
     "output_type": "stream",
     "text": [
      "Nombre: Pantalon, Precio: $15, Cantidad: 60.\n",
      "El producto \"Pantalon\" ha sido eliminado correctamente.\n"
     ]
    }
   ],
   "source": [
    "mi_tienda.eliminar_producto('Pantalon')"
   ]
  },
  {
   "cell_type": "code",
   "execution_count": 106,
   "id": "519ce3a4",
   "metadata": {},
   "outputs": [
    {
     "name": "stdout",
     "output_type": "stream",
     "text": [
      "El valor total del inventario es $2100.\n"
     ]
    }
   ],
   "source": [
    "mi_tienda.calcular_valor_inventario()"
   ]
  },
  {
   "cell_type": "code",
   "execution_count": 107,
   "id": "e4daa47e",
   "metadata": {},
   "outputs": [
    {
     "name": "stdout",
     "output_type": "stream",
     "text": [
      "El producto \"Chaqueta piel\" ha sido añadido al inventario con un precio de $100 y una cantidad de 1 unidad(es).\n"
     ]
    }
   ],
   "source": [
    "mi_tienda.agregar_producto('Chaqueta piel', 100, 1)"
   ]
  },
  {
   "cell_type": "code",
   "execution_count": 108,
   "id": "56ec68b5",
   "metadata": {},
   "outputs": [
    {
     "name": "stdout",
     "output_type": "stream",
     "text": [
      "Nombre: Camisa, Precio: $20, Cantidad: 80.\n",
      "Nombre: Chaqueta, Precio: $50, Cantidad: 10.\n",
      "Nombre: Chaqueta piel, Precio: $100, Cantidad: 1.\n"
     ]
    }
   ],
   "source": [
    "mi_tienda.ver_inventario()"
   ]
  },
  {
   "cell_type": "code",
   "execution_count": 109,
   "id": "aea82e17",
   "metadata": {},
   "outputs": [
    {
     "name": "stdout",
     "output_type": "stream",
     "text": [
      "El valor total del inventario es $2200.\n"
     ]
    }
   ],
   "source": [
    "mi_tienda.calcular_valor_inventario()"
   ]
  },
  {
   "cell_type": "code",
   "execution_count": 127,
   "id": "f2148ccc",
   "metadata": {},
   "outputs": [
    {
     "name": "stdout",
     "output_type": "stream",
     "text": [
      "Productos del inventario:\n",
      "Nombre: Camisa, Precio: $2, Cantidad: -2.\n",
      "Nombre: Camisa, Precio: $2, Cantidad: -2.\n",
      "El producto \"Camisa\" ha sido actualizado. Su stock actual es de -3.\n",
      "El carrito con sus producto es el siguiente: ['Camisa'].\n",
      "El coste total de su compra es de 2\n"
     ]
    }
   ],
   "source": [
    "mi_tienda.realizar_compra()"
   ]
  },
  {
   "cell_type": "code",
   "execution_count": null,
   "id": "f2902078",
   "metadata": {},
   "outputs": [],
   "source": []
  },
  {
   "cell_type": "markdown",
   "id": "03c145a6",
   "metadata": {},
   "source": [
    "------------------------------------------------"
   ]
  },
  {
   "cell_type": "markdown",
   "id": "4dfff817",
   "metadata": {},
   "source": [
    "### PRUEBA (en sucio)"
   ]
  },
  {
   "cell_type": "code",
   "execution_count": 36,
   "id": "8cc1e1ba",
   "metadata": {},
   "outputs": [],
   "source": [
    "inventario = []\n",
    "clientes = {}\n",
    "ventas_totales = 0\n",
    "inventario.append({'nombre': 'Camisa', 'precio': 20, 'cantidad': 40})\n",
    "inventario.append({'nombre': 'Pantalon', 'precio': 25, 'cantidad': 50})\n",
    "inventario.append({'nombre': 'Falda', 'precio': 25, 'cantidad': 50})"
   ]
  },
  {
   "cell_type": "code",
   "execution_count": 37,
   "id": "8895e5fe",
   "metadata": {},
   "outputs": [
    {
     "data": {
      "text/plain": [
       "[{'nombre': 'Camisa', 'precio': 20, 'cantidad': 40},\n",
       " {'nombre': 'Pantalon', 'precio': 25, 'cantidad': 50},\n",
       " {'nombre': 'Falda', 'precio': 25, 'cantidad': 50}]"
      ]
     },
     "execution_count": 37,
     "metadata": {},
     "output_type": "execute_result"
    }
   ],
   "source": [
    "inventario"
   ]
  },
  {
   "cell_type": "code",
   "execution_count": 38,
   "id": "e79c7361",
   "metadata": {},
   "outputs": [],
   "source": [
    "producto = []\n",
    "\n",
    "for p in inventario: \n",
    "    producto.append(p['nombre'])"
   ]
  },
  {
   "cell_type": "code",
   "execution_count": 39,
   "id": "a88ceb9a",
   "metadata": {},
   "outputs": [
    {
     "data": {
      "text/plain": [
       "['Camisa', 'Pantalon', 'Falda']"
      ]
     },
     "execution_count": 39,
     "metadata": {},
     "output_type": "execute_result"
    }
   ],
   "source": [
    "producto"
   ]
  },
  {
   "cell_type": "code",
   "execution_count": 40,
   "id": "f002feb6",
   "metadata": {},
   "outputs": [],
   "source": [
    "selec_producto = input(f'Seleccione cual de los siguientes productos desea comprar: {producto}')"
   ]
  },
  {
   "cell_type": "code",
   "execution_count": 41,
   "id": "e393b84c",
   "metadata": {},
   "outputs": [
    {
     "data": {
      "text/plain": [
       "'Falda'"
      ]
     },
     "execution_count": 41,
     "metadata": {},
     "output_type": "execute_result"
    }
   ],
   "source": [
    "selec_producto"
   ]
  },
  {
   "cell_type": "code",
   "execution_count": 33,
   "id": "d5406a46",
   "metadata": {},
   "outputs": [
    {
     "name": "stdout",
     "output_type": "stream",
     "text": [
      "[25]\n"
     ]
    }
   ],
   "source": [
    "lista = []\n",
    "for p in inventario: \n",
    "    if selec_producto == p['nombre']:\n",
    "        lista.append(p['precio'])\n",
    "        print(lista)\n"
   ]
  },
  {
   "cell_type": "code",
   "execution_count": 43,
   "id": "51855d59",
   "metadata": {},
   "outputs": [
    {
     "name": "stdout",
     "output_type": "stream",
     "text": [
      "[25, 25, 25, 25, 25]\n"
     ]
    }
   ],
   "source": [
    "if selec_producto == p['nombre']:\n",
    "    lista.append(p['precio'])\n",
    "    print(lista)"
   ]
  },
  {
   "cell_type": "code",
   "execution_count": 171,
   "id": "d43957ab",
   "metadata": {},
   "outputs": [
    {
     "data": {
      "text/plain": [
       "[{'nombre': 'Camisa', 'precio': 20, 'cantidad': 40},\n",
       " {'nombre': 'Pantalon', 'precio': 25, 'cantidad': 50},\n",
       " {'nombre': 'Falda', 'precio': 25, 'cantidad': 50}]"
      ]
     },
     "execution_count": 171,
     "metadata": {},
     "output_type": "execute_result"
    }
   ],
   "source": [
    "inventario"
   ]
  },
  {
   "cell_type": "code",
   "execution_count": 109,
   "id": "e08b4224",
   "metadata": {},
   "outputs": [
    {
     "data": {
      "text/plain": [
       "2"
      ]
     },
     "execution_count": 109,
     "metadata": {},
     "output_type": "execute_result"
    }
   ],
   "source": [
    "len(inventario) - 1"
   ]
  },
  {
   "cell_type": "code",
   "execution_count": null,
   "id": "df1d534b",
   "metadata": {},
   "outputs": [
    {
     "name": "stdout",
     "output_type": "stream",
     "text": [
      "0: {'nombre': 'Camisa', 'precio': 20, 'cantidad': 40}\n",
      "1: {'nombre': 'Pantalon1', 'precio': 25, 'cantidad': 50}\n",
      "2: {'nombre': 'Falda1', 'precio': 25, 'cantidad': 50}\n",
      "3: {'nombre': 'Pantalon2', 'precio': 25, 'cantidad': 50}\n",
      "4: {'nombre': 'Falda2', 'precio': 25, 'cantidad': 50}\n",
      "5: {'nombre': 'Pantalon3', 'precio': 25, 'cantidad': 50}\n",
      "6: {'nombre': 'Falda3', 'precio': 25, 'cantidad': 50}\n",
      "7: {'nombre': 'Pantalon4', 'precio': 25, 'cantidad': 50}\n",
      "8: {'nombre': 'Falda4', 'precio': 25, 'cantidad': 50}\n",
      "9: {'nombre': 'Pantalon5', 'precio': 25, 'cantidad': 50}\n"
     ]
    }
   ],
   "source": [
    "nombre = 'Falda11'\n",
    "contador = 0\n",
    "\n",
    "for p in inventario:    \n",
    "    print(f'{contador}: {p}') \n",
    "    if nombre == p['nombre']: \n",
    "        print(f'Encontrado: {p} y su contador es {contador}')\n",
    "        inventario.pop(contador)\n",
    "        break\n",
    "    contador +=1\n",
    "\n",
    "if  contador == len(inventario):\n",
    "    print(f'No ha sido encontrado {nombre}') \n",
    "\n",
    "\n",
    "     \n",
    "\n",
    "# print(f'No ha sido encontrado {nombre}')   \n"
   ]
  },
  {
   "cell_type": "code",
   "execution_count": null,
   "id": "7eeac8e2",
   "metadata": {},
   "outputs": [
    {
     "name": "stdout",
     "output_type": "stream",
     "text": [
      "0: {'nombre': 'Camisa', 'precio': 20, 'cantidad': 40}\n",
      "1: {'nombre': 'Pantalon', 'precio': 25, 'cantidad': 50}\n",
      "Encontrado: {'nombre': 'Pantalon', 'precio': 25, 'cantidad': 50} y su contador es 1\n"
     ]
    }
   ],
   "source": [
    "nombre = 'Pantalon'\n",
    "contador = 0\n",
    "encontrar = False\n",
    "\n",
    "for p in inventario:    \n",
    "    # print(f'{contador}: {p}')     \n",
    "    if nombre == p['nombre']: \n",
    "        print(f'Encontrado: {p} y su contador es {contador}')\n",
    "        inventario.pop(contador)\n",
    "        encontrar = True\n",
    "        break\n",
    "    contador +=1\n",
    "\n",
    "if  not encontrar:\n",
    "    print(f'No ha sido encontrado {nombre}') "
   ]
  },
  {
   "cell_type": "code",
   "execution_count": 174,
   "id": "73f6285f",
   "metadata": {},
   "outputs": [
    {
     "data": {
      "text/plain": [
       "[{'nombre': 'Camisa', 'precio': 20, 'cantidad': 40},\n",
       " {'nombre': 'Falda', 'precio': 25, 'cantidad': 50}]"
      ]
     },
     "execution_count": 174,
     "metadata": {},
     "output_type": "execute_result"
    }
   ],
   "source": [
    "inventario"
   ]
  },
  {
   "cell_type": "code",
   "execution_count": 169,
   "id": "3ce28a23",
   "metadata": {},
   "outputs": [
    {
     "name": "stdout",
     "output_type": "stream",
     "text": [
      "0: {'nombre': 'Camisa', 'precio': 20, 'cantidad': 40}\n",
      "1: {'nombre': 'Pantalon', 'precio': 25, 'cantidad': 50}\n",
      "2: {'nombre': 'Falda', 'precio': 25, 'cantidad': 50}\n",
      "Encontrado: {'nombre': 'Falda', 'precio': 25, 'cantidad': 50} y su contador es 2\n"
     ]
    }
   ],
   "source": [
    "nombre = 'Falda'\n",
    "contador = 0\n",
    "tamaño_inicial_inventario = len(inventario)\n",
    "\n",
    "for p in inventario:    \n",
    "    print(f'{contador}: {p}') \n",
    "    if nombre == p['nombre']: \n",
    "        print(f'Encontrado: {p} y su contador es {contador}')\n",
    "        inventario.pop(contador)\n",
    "        break\n",
    "    contador +=1\n",
    "\n",
    "if  tamaño_inicial_inventario == len(inventario):\n",
    "    print(f'No ha sido encontrado {nombre}') \n"
   ]
  },
  {
   "cell_type": "code",
   "execution_count": 132,
   "id": "76ff2fc1",
   "metadata": {},
   "outputs": [],
   "source": [
    "nombre = 'Chaqueta'\n",
    "precio = 10\n",
    "cantidad = 100\n",
    "\n",
    "ropa = []\n",
    "\n",
    "for i in inventario:\n",
    "    ropa.append(i['nombre'])\n",
    "    if nombre == i['nombre']: # verifica si coincide el nombre del nuevo producto con uno del inventario, donde i es el diccionario\n",
    "        i['cantidad'] += cantidad\n",
    "\n",
    "if nombre not in ropa:\n",
    "    inventario.append({'nombre': nombre, 'precio': precio, 'cantidad': cantidad})"
   ]
  },
  {
   "cell_type": "code",
   "execution_count": null,
   "id": "8a1f6873",
   "metadata": {},
   "outputs": [],
   "source": [
    "nombre = 'Chaqueta'\n",
    "precio = 10\n",
    "cantidad = 100\n",
    "\n",
    "existe_en_inventario = False\n",
    "\n",
    "for i in inventario:\n",
    "    if nombre == i['nombre']: # verifica si coincide el nombre del nuevo producto con uno del inventario, donde i es el diccionario\n",
    "        i['cantidad'] += cantidad\n",
    "        existe_en_inventario = True\n",
    "        break\n",
    "\n",
    "if existe_en_inventario == False:\n",
    "    inventario.append({'nombre': nombre, 'precio': precio, 'cantidad': cantidad})"
   ]
  },
  {
   "cell_type": "code",
   "execution_count": null,
   "id": "ab6a93f6",
   "metadata": {},
   "outputs": [],
   "source": [
    "nombre = 'Chaqueta'\n",
    "precio = 10\n",
    "cantidad = 100\n",
    "\n",
    "for i in inventario:\n",
    "    if nombre == i['nombre']: # verifica si coincide el nombre del nuevo producto con uno del inventario, donde i es el diccionario\n",
    "        i['cantidad'] += cantidad\n",
    "    else:\n",
    "        inventario.append({'nombre': nombre, 'precio': precio, 'cantidad': cantidad})\n"
   ]
  },
  {
   "cell_type": "code",
   "execution_count": 133,
   "id": "573799ec",
   "metadata": {},
   "outputs": [
    {
     "data": {
      "text/plain": [
       "[{'nombre': 'Camisa', 'precio': 20, 'cantidad': 40},\n",
       " {'nombre': 'Pantalon', 'precio': 25, 'cantidad': 50},\n",
       " {'nombre': 'Chaqueta', 'precio': 10, 'cantidad': 300}]"
      ]
     },
     "execution_count": 133,
     "metadata": {},
     "output_type": "execute_result"
    }
   ],
   "source": [
    "inventario"
   ]
  },
  {
   "cell_type": "code",
   "execution_count": 128,
   "id": "9ab9e95e",
   "metadata": {},
   "outputs": [
    {
     "data": {
      "text/plain": [
       "['Camisa', 'Pantalon']"
      ]
     },
     "execution_count": 128,
     "metadata": {},
     "output_type": "execute_result"
    }
   ],
   "source": [
    "ropa"
   ]
  },
  {
   "cell_type": "code",
   "execution_count": null,
   "id": "c2a768f0",
   "metadata": {},
   "outputs": [],
   "source": [
    "nombre = 'Chaqueta'\n",
    "precio = 10\n",
    "cantidad = 100\n",
    "\n",
    "\n",
    "    if nombre != i['nombre']: \n",
    "        inventario.append({'nombre': nombre, 'precio': precio, 'cantidad': cantidad})\n",
    "        break\n",
    "    else: \n",
    "        i['cantidad'] += cantidad\n",
    "        break"
   ]
  },
  {
   "cell_type": "code",
   "execution_count": 120,
   "id": "b514a016",
   "metadata": {},
   "outputs": [
    {
     "data": {
      "text/plain": [
       "[{'nombre': 'Camisa', 'precio': 20, 'cantidad': 40},\n",
       " {'nombre': 'Pantalon', 'precio': 25, 'cantidad': 50},\n",
       " {'nombre': 'Chaqueta', 'precio': 10, 'cantidad': 100}]"
      ]
     },
     "execution_count": 120,
     "metadata": {},
     "output_type": "execute_result"
    }
   ],
   "source": [
    "inventario"
   ]
  },
  {
   "cell_type": "code",
   "execution_count": 68,
   "id": "ea2467c8",
   "metadata": {},
   "outputs": [
    {
     "name": "stdout",
     "output_type": "stream",
     "text": [
      "te pillé. por favor, inserte una cantidad numérica\n",
      "te pillé. por favor, inserte una cantidad numérica\n",
      "Has seleccionado una cantidad de 5 del producto X\n"
     ]
    }
   ],
   "source": [
    "reintentar = False\n",
    "#cantidad_producto=0\n",
    "while True:\n",
    "    try:\n",
    "        if reintentar:\n",
    "            cantidad_producto = int(input('inserte cantidad del producto. por favor, un número, no es tan difícil'))\n",
    "        else:\n",
    "            cantidad_producto = int(input('inserte cantidad del producto'))    \n",
    "    except ValueError as e:\n",
    "        print(f'te pillé. por favor, inserte una cantidad numérica')\n",
    "        reintentar = True\n",
    "    else:\n",
    "        print(f'Has seleccionado una cantidad de {cantidad_producto} del producto X')\n",
    "        break\n"
   ]
  }
 ],
 "metadata": {
  "kernelspec": {
   "display_name": "base",
   "language": "python",
   "name": "python3"
  },
  "language_info": {
   "codemirror_mode": {
    "name": "ipython",
    "version": 3
   },
   "file_extension": ".py",
   "mimetype": "text/x-python",
   "name": "python",
   "nbconvert_exporter": "python",
   "pygments_lexer": "ipython3",
   "version": "3.12.7"
  }
 },
 "nbformat": 4,
 "nbformat_minor": 5
}
